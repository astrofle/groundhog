{
 "cells": [
  {
   "cell_type": "markdown",
   "id": "2f7f55ca",
   "metadata": {},
   "source": [
    "This notebook shows how to calibrate mapping observations using position switching."
   ]
  },
  {
   "cell_type": "code",
   "execution_count": 1,
   "id": "4acb0685",
   "metadata": {},
   "outputs": [],
   "source": [
    "# Load the modules we will use.\n",
    "from groundhog import datared\n",
    "from groundhog import mapping\n",
    "from groundhog import sd_fits_io"
   ]
  },
  {
   "cell_type": "markdown",
   "id": "81ee1e9e",
   "metadata": {},
   "source": [
    "Define the spectral window, polarization, beam, scans with mapping observations, the scan to use as reference and the file with the data."
   ]
  },
  {
   "cell_type": "code",
   "execution_count": 2,
   "id": "ca52cf3c",
   "metadata": {},
   "outputs": [],
   "source": [
    "ifnum = 0\n",
    "plnum = 0\n",
    "fdnum = 0\n",
    "map_scans = range(14,27,1)\n",
    "ref_scan_num = 27\n",
    "filein = '../groundhog/tests/data/TGBT17A_506_11.raw.vegas/TGBT17A_506_11.raw.vegas.A.fits'"
   ]
  },
  {
   "cell_type": "markdown",
   "id": "c2a59525",
   "metadata": {},
   "source": [
    "Load the SDFITS file."
   ]
  },
  {
   "cell_type": "code",
   "execution_count": 3,
   "id": "3dd0d13f",
   "metadata": {},
   "outputs": [
    {
     "name": "stdout",
     "output_type": "stream",
     "text": [
      "CPU times: user 774 ms, sys: 179 ms, total: 954 ms\n",
      "Wall time: 969 ms\n"
     ]
    }
   ],
   "source": [
    "%%time\n",
    "sdfits = sd_fits_io.read_sdfits(filein)"
   ]
  },
  {
   "cell_type": "markdown",
   "id": "5a4f3bc2",
   "metadata": {},
   "source": [
    "First, prepare the reference scan."
   ]
  },
  {
   "cell_type": "code",
   "execution_count": 4,
   "id": "c66e285c",
   "metadata": {},
   "outputs": [
    {
     "name": "stdout",
     "output_type": "stream",
     "text": [
      "CPU times: user 410 ms, sys: 410 ms, total: 820 ms\n",
      "Wall time: 821 ms\n"
     ]
    }
   ],
   "source": [
    "%%time\n",
    "ref_scan = datared.prepare_mapping_off(sdfits, ref_scan_num, ifnum=ifnum, plnum=plnum, fdnum=fdnum)"
   ]
  },
  {
   "cell_type": "markdown",
   "id": "61ad8971",
   "metadata": {},
   "source": [
    "Then, calibrate the mapping scans using `ref_scan` as an off position."
   ]
  },
  {
   "cell_type": "code",
   "execution_count": 5,
   "id": "2ef41adf",
   "metadata": {},
   "outputs": [
    {
     "name": "stdout",
     "output_type": "stream",
     "text": [
      "CPU times: user 1.15 s, sys: 1.23 s, total: 2.38 s\n",
      "Wall time: 2.38 s\n"
     ]
    }
   ],
   "source": [
    "%%time\n",
    "cal_scans = mapping.map_with_ref(sdfits, map_scans, ref_scan, \n",
    "                                 ifnum=ifnum, plnum=plnum, fdnum=fdnum, \n",
    "                                 method='gbtidl')"
   ]
  },
  {
   "cell_type": "markdown",
   "id": "ae7630cc",
   "metadata": {},
   "source": [
    "Finally, save the calibrated scans to a new fits file."
   ]
  },
  {
   "cell_type": "code",
   "execution_count": 6,
   "id": "b92c5dc9",
   "metadata": {},
   "outputs": [
    {
     "name": "stdout",
     "output_type": "stream",
     "text": [
      "CPU times: user 399 ms, sys: 46.4 ms, total: 445 ms\n",
      "Wall time: 476 ms\n"
     ]
    }
   ],
   "source": [
    "%%time\n",
    "sd_fits_io.write_new_sdfits('NGC6946_scan_14_26_window0_feed0_pol0.fits', cal_scans.table, overwrite=True)"
   ]
  }
 ],
 "metadata": {
  "kernelspec": {
   "display_name": "Python 3",
   "language": "python",
   "name": "python3"
  },
  "language_info": {
   "codemirror_mode": {
    "name": "ipython",
    "version": 3
   },
   "file_extension": ".py",
   "mimetype": "text/x-python",
   "name": "python",
   "nbconvert_exporter": "python",
   "pygments_lexer": "ipython3",
   "version": "3.8.5"
  }
 },
 "nbformat": 4,
 "nbformat_minor": 5
}
